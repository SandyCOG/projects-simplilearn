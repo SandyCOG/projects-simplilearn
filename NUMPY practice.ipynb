{
 "cells": [
  {
   "cell_type": "code",
   "execution_count": 1,
   "metadata": {},
   "outputs": [],
   "source": [
    "import numpy as np\n"
   ]
  },
  {
   "cell_type": "code",
   "execution_count": 11,
   "metadata": {},
   "outputs": [
    {
     "data": {
      "text/plain": [
       "array([1, 2, 3])"
      ]
     },
     "execution_count": 11,
     "metadata": {},
     "output_type": "execute_result"
    }
   ],
   "source": [
    "#requires curve and ssquare brackets\n",
    "arr1 = np.array([1,2,3])\n",
    "arr1\n"
   ]
  },
  {
   "cell_type": "code",
   "execution_count": 3,
   "metadata": {},
   "outputs": [
    {
     "name": "stdout",
     "output_type": "stream",
     "text": [
      "[1 2 3]\n"
     ]
    }
   ],
   "source": [
    "print(arr1)"
   ]
  },
  {
   "cell_type": "code",
   "execution_count": 4,
   "metadata": {},
   "outputs": [
    {
     "name": "stdout",
     "output_type": "stream",
     "text": [
      "<class 'numpy.ndarray'>\n"
     ]
    }
   ],
   "source": [
    "print(type(arr1))"
   ]
  },
  {
   "cell_type": "code",
   "execution_count": 6,
   "metadata": {},
   "outputs": [
    {
     "name": "stdout",
     "output_type": "stream",
     "text": [
      "(3,)\n"
     ]
    }
   ],
   "source": [
    "print(arr1.shape)"
   ]
  },
  {
   "cell_type": "code",
   "execution_count": 7,
   "metadata": {},
   "outputs": [
    {
     "name": "stdout",
     "output_type": "stream",
     "text": [
      "3\n"
     ]
    }
   ],
   "source": [
    "print(arr1[2])"
   ]
  },
  {
   "cell_type": "code",
   "execution_count": 8,
   "metadata": {},
   "outputs": [
    {
     "data": {
      "text/plain": [
       "array([1, 2, 5])"
      ]
     },
     "execution_count": 8,
     "metadata": {},
     "output_type": "execute_result"
    }
   ],
   "source": [
    "arr1[2] = 5\n",
    "arr1"
   ]
  },
  {
   "cell_type": "code",
   "execution_count": 10,
   "metadata": {},
   "outputs": [
    {
     "data": {
      "text/plain": [
       "array([[1, 2, 3],\n",
       "       [3, 4, 5]])"
      ]
     },
     "execution_count": 10,
     "metadata": {},
     "output_type": "execute_result"
    }
   ],
   "source": [
    "arr2 = np.array([[1,2,3],[3,4,5]])\n",
    "arr2"
   ]
  },
  {
   "cell_type": "code",
   "execution_count": 13,
   "metadata": {},
   "outputs": [
    {
     "data": {
      "text/plain": [
       "3"
      ]
     },
     "execution_count": 13,
     "metadata": {},
     "output_type": "execute_result"
    }
   ],
   "source": [
    "arr2[1][0]"
   ]
  },
  {
   "cell_type": "code",
   "execution_count": 14,
   "metadata": {},
   "outputs": [
    {
     "name": "stdout",
     "output_type": "stream",
     "text": [
      "(2, 3)\n"
     ]
    }
   ],
   "source": [
    "print(arr2.shape)"
   ]
  },
  {
   "cell_type": "code",
   "execution_count": 15,
   "metadata": {},
   "outputs": [
    {
     "data": {
      "text/plain": [
       "5"
      ]
     },
     "execution_count": 15,
     "metadata": {},
     "output_type": "execute_result"
    }
   ],
   "source": [
    "arr2[1,2]"
   ]
  },
  {
   "cell_type": "code",
   "execution_count": 16,
   "metadata": {},
   "outputs": [
    {
     "data": {
      "text/plain": [
       "5"
      ]
     },
     "execution_count": 16,
     "metadata": {},
     "output_type": "execute_result"
    }
   ],
   "source": [
    "arr2[1][-1]"
   ]
  },
  {
   "cell_type": "code",
   "execution_count": 17,
   "metadata": {},
   "outputs": [
    {
     "data": {
      "text/plain": [
       "2"
      ]
     },
     "execution_count": 17,
     "metadata": {},
     "output_type": "execute_result"
    }
   ],
   "source": [
    "arr2[0][1]"
   ]
  },
  {
   "cell_type": "code",
   "execution_count": 18,
   "metadata": {},
   "outputs": [
    {
     "data": {
      "text/plain": [
       "array(['China', 'India', 'USA', 'Mexico'], dtype='<U6')"
      ]
     },
     "execution_count": 18,
     "metadata": {},
     "output_type": "execute_result"
    }
   ],
   "source": [
    "arrS = np.array(['China', 'India','USA','Mexico'])\n",
    "arrS"
   ]
  },
  {
   "cell_type": "code",
   "execution_count": 24,
   "metadata": {},
   "outputs": [
    {
     "data": {
      "text/plain": [
       "array([ 0,  2,  4,  6,  8, 10, 12, 14, 16, 18])"
      ]
     },
     "execution_count": 24,
     "metadata": {},
     "output_type": "execute_result"
    }
   ],
   "source": [
    "#np.arange() gives a range of values from 0 to 20 skipping every 2nd value\n",
    "arrR = np.arange(0, 20, 2)\n",
    "arrR"
   ]
  },
  {
   "cell_type": "code",
   "execution_count": 23,
   "metadata": {},
   "outputs": [
    {
     "data": {
      "text/plain": [
       "array([ 5,  8, 11, 14, 17, 20, 23, 26, 29, 32, 35, 38, 41, 44, 47])"
      ]
     },
     "execution_count": 23,
     "metadata": {},
     "output_type": "execute_result"
    }
   ],
   "source": [
    "#np.arange() gives a range of values from 5 to 50 skipping every 3rd value\n",
    "arrR2 = np.arange(5, 50, 3)\n",
    "arrR2"
   ]
  },
  {
   "cell_type": "code",
   "execution_count": 25,
   "metadata": {},
   "outputs": [
    {
     "data": {
      "text/plain": [
       "array([ 0.        ,  0.52631579,  1.05263158,  1.57894737,  2.10526316,\n",
       "        2.63157895,  3.15789474,  3.68421053,  4.21052632,  4.73684211,\n",
       "        5.26315789,  5.78947368,  6.31578947,  6.84210526,  7.36842105,\n",
       "        7.89473684,  8.42105263,  8.94736842,  9.47368421, 10.        ])"
      ]
     },
     "execution_count": 25,
     "metadata": {},
     "output_type": "execute_result"
    }
   ],
   "source": [
    "#np.linspace() gives 20 uniform values from 0 t0 10\n",
    "arrL = np.linspace(0,10, 20)\n",
    "arrL"
   ]
  },
  {
   "cell_type": "code",
   "execution_count": 29,
   "metadata": {},
   "outputs": [
    {
     "data": {
      "text/plain": [
       "array([ 5. , 12.5, 20. , 27.5, 35. , 42.5, 50. ])"
      ]
     },
     "execution_count": 29,
     "metadata": {},
     "output_type": "execute_result"
    }
   ],
   "source": [
    "arrL2 = np.linspace(5,50,7)\n",
    "arrL2"
   ]
  },
  {
   "cell_type": "code",
   "execution_count": 34,
   "metadata": {},
   "outputs": [
    {
     "data": {
      "text/plain": [
       "array([0.30100244, 0.70696363, 0.11189582, 0.00495291, 0.20363953,\n",
       "       0.08771132, 0.29553077, 0.99696011, 0.03351045, 0.62611962])"
      ]
     },
     "execution_count": 34,
     "metadata": {},
     "output_type": "execute_result"
    }
   ],
   "source": [
    "#GENERATEs 10 random values, values change each time code is run\n",
    "arrR = np.random.rand(10)\n",
    "arrR"
   ]
  },
  {
   "cell_type": "code",
   "execution_count": 40,
   "metadata": {},
   "outputs": [
    {
     "data": {
      "text/plain": [
       "array([[0.68003083, 0.17151797, 0.95941922, 0.85914886],\n",
       "       [0.37316289, 0.63813784, 0.82552166, 0.19688103],\n",
       "       [0.02795662, 0.93624433, 0.70563858, 0.50490291]])"
      ]
     },
     "execution_count": 40,
     "metadata": {},
     "output_type": "execute_result"
    }
   ],
   "source": [
    "#generates random values in the shape given e.g (3, 4)\n",
    "arrRa = np.random.rand(3,4)\n",
    "arrRa"
   ]
  },
  {
   "cell_type": "code",
   "execution_count": 50,
   "metadata": {},
   "outputs": [
    {
     "name": "stdout",
     "output_type": "stream",
     "text": [
      "[0. 0. 0. 0. 0. 0. 0. 0. 0. 0.]\n",
      "/n\n",
      "[[0. 0. 0.]\n",
      " [0. 0. 0.]]\n"
     ]
    }
   ],
   "source": [
    "print(np.zeros(10))\n",
    "print('/n')\n",
    "print(np.zeros((2,3)))"
   ]
  },
  {
   "cell_type": "code",
   "execution_count": 53,
   "metadata": {},
   "outputs": [
    {
     "name": "stdout",
     "output_type": "stream",
     "text": [
      "[[1. 1. 1. 1. 1. 1. 1. 1. 1. 1.]\n",
      " [1. 1. 1. 1. 1. 1. 1. 1. 1. 1.]\n",
      " [1. 1. 1. 1. 1. 1. 1. 1. 1. 1.]\n",
      " [1. 1. 1. 1. 1. 1. 1. 1. 1. 1.]\n",
      " [1. 1. 1. 1. 1. 1. 1. 1. 1. 1.]\n",
      " [1. 1. 1. 1. 1. 1. 1. 1. 1. 1.]\n",
      " [1. 1. 1. 1. 1. 1. 1. 1. 1. 1.]\n",
      " [1. 1. 1. 1. 1. 1. 1. 1. 1. 1.]\n",
      " [1. 1. 1. 1. 1. 1. 1. 1. 1. 1.]\n",
      " [1. 1. 1. 1. 1. 1. 1. 1. 1. 1.]]\n"
     ]
    }
   ],
   "source": [
    "print(np.ones((10,10)))"
   ]
  },
  {
   "cell_type": "code",
   "execution_count": 55,
   "metadata": {},
   "outputs": [
    {
     "name": "stdout",
     "output_type": "stream",
     "text": [
      "[0 0 0 1 1 1 2 2 2]\n"
     ]
    }
   ],
   "source": [
    "#repeats each value of the given array 3 times\n",
    "arr = [0, 1, 2]\n",
    "print(np.repeat(arr, 3))"
   ]
  },
  {
   "cell_type": "code",
   "execution_count": 58,
   "metadata": {},
   "outputs": [
    {
     "name": "stdout",
     "output_type": "stream",
     "text": [
      "[0 1 2 0 1 2 0 1 2]\n"
     ]
    }
   ],
   "source": [
    "#repeats the entire array three times\n",
    "print(np.tile(arr, 3))"
   ]
  },
  {
   "cell_type": "code",
   "execution_count": 61,
   "metadata": {},
   "outputs": [
    {
     "data": {
      "text/plain": [
       "array([[1., 0., 0.],\n",
       "       [0., 1., 0.],\n",
       "       [0., 0., 1.]])"
      ]
     },
     "execution_count": 61,
     "metadata": {},
     "output_type": "execute_result"
    }
   ],
   "source": [
    "#creates an identity matix\n",
    "identity_matrix = np.eye(3)\n",
    "identity_matrix"
   ]
  },
  {
   "cell_type": "code",
   "execution_count": 62,
   "metadata": {},
   "outputs": [
    {
     "data": {
      "text/plain": [
       "array([[1, 0, 0, 0, 0, 0],\n",
       "       [0, 2, 0, 0, 0, 0],\n",
       "       [0, 0, 3, 0, 0, 0],\n",
       "       [0, 0, 0, 4, 0, 0],\n",
       "       [0, 0, 0, 0, 5, 0],\n",
       "       [0, 0, 0, 0, 0, 6]])"
      ]
     },
     "execution_count": 62,
     "metadata": {},
     "output_type": "execute_result"
    }
   ],
   "source": [
    "#creates a matrix with a given diagonal\n",
    "np.diag([1,2,3,4,5,6])"
   ]
  },
  {
   "cell_type": "code",
   "execution_count": 3,
   "metadata": {},
   "outputs": [
    {
     "data": {
      "text/plain": [
       "array([[0.31547171, 0.25759039, 0.27313467, 0.72825721, 0.59150051],\n",
       "       [0.55604185, 0.90136285, 0.59771961, 0.39204829, 0.11221495],\n",
       "       [0.60643742, 0.94663746, 0.13243114, 0.71195192, 0.5956287 ],\n",
       "       [0.4120307 , 0.30375009, 0.72562241, 0.1212276 , 0.24520784],\n",
       "       [0.16160385, 0.17319559, 0.16583556, 0.42777884, 0.14041218]])"
      ]
     },
     "execution_count": 3,
     "metadata": {},
     "output_type": "execute_result"
    }
   ],
   "source": [
    "arrb = np.random.rand(5,5)\n",
    "arrb"
   ]
  },
  {
   "cell_type": "code",
   "execution_count": 65,
   "metadata": {},
   "outputs": [
    {
     "data": {
      "text/plain": [
       "array([0.85352088, 0.78190262, 0.04907624, 0.41695811, 0.10409772])"
      ]
     },
     "execution_count": 65,
     "metadata": {},
     "output_type": "execute_result"
    }
   ],
   "source": [
    "#extracts the diagonal from teh given array\n",
    "np.diag(arrb)"
   ]
  },
  {
   "cell_type": "code",
   "execution_count": 66,
   "metadata": {},
   "outputs": [
    {
     "data": {
      "text/plain": [
       "2"
      ]
     },
     "execution_count": 66,
     "metadata": {},
     "output_type": "execute_result"
    }
   ],
   "source": [
    "#gives dimension of the array\n",
    "arrb.ndim\n"
   ]
  },
  {
   "cell_type": "code",
   "execution_count": 67,
   "metadata": {},
   "outputs": [
    {
     "data": {
      "text/plain": [
       "25"
      ]
     },
     "execution_count": 67,
     "metadata": {},
     "output_type": "execute_result"
    }
   ],
   "source": [
    "arrb.size"
   ]
  },
  {
   "cell_type": "code",
   "execution_count": 68,
   "metadata": {},
   "outputs": [
    {
     "data": {
      "text/plain": [
       "(5, 5)"
      ]
     },
     "execution_count": 68,
     "metadata": {},
     "output_type": "execute_result"
    }
   ],
   "source": [
    "arrb.shape"
   ]
  },
  {
   "cell_type": "code",
   "execution_count": 70,
   "metadata": {},
   "outputs": [
    {
     "data": {
      "text/plain": [
       "array([  6, -10,   9,  -1])"
      ]
     },
     "execution_count": 70,
     "metadata": {},
     "output_type": "execute_result"
    }
   ],
   "source": [
    "#generates random integer \n",
    "np.random.randint(-10,10,4)"
   ]
  },
  {
   "cell_type": "code",
   "execution_count": 71,
   "metadata": {},
   "outputs": [
    {
     "data": {
      "text/plain": [
       "array([[10.85352088, 10.50447132, 10.57368199, 10.97534538, 10.45967631],\n",
       "       [10.87550227, 10.78190262, 10.13072602, 10.84449912, 10.83457307],\n",
       "       [10.43897617, 10.41848266, 10.04907624, 10.30192239, 10.46911794],\n",
       "       [10.04335553, 10.06249248, 10.86794742, 10.41695811, 10.84051423],\n",
       "       [10.25206141, 10.58980387, 10.65480306, 10.44261562, 10.10409772]])"
      ]
     },
     "execution_count": 71,
     "metadata": {},
     "output_type": "execute_result"
    }
   ],
   "source": [
    "arrb+10"
   ]
  },
  {
   "cell_type": "code",
   "execution_count": 72,
   "metadata": {},
   "outputs": [
    {
     "data": {
      "text/plain": [
       "array([[0.42676044, 0.25223566, 0.28684099, 0.48767269, 0.22983816],\n",
       "       [0.43775114, 0.39095131, 0.06536301, 0.42224956, 0.41728653],\n",
       "       [0.21948808, 0.20924133, 0.02453812, 0.15096119, 0.23455897],\n",
       "       [0.02167777, 0.03124624, 0.43397371, 0.20847906, 0.42025711],\n",
       "       [0.1260307 , 0.29490193, 0.32740153, 0.22130781, 0.05204886]])"
      ]
     },
     "execution_count": 72,
     "metadata": {},
     "output_type": "execute_result"
    }
   ],
   "source": [
    "arrb/2"
   ]
  },
  {
   "cell_type": "code",
   "execution_count": 73,
   "metadata": {},
   "outputs": [
    {
     "data": {
      "text/plain": [
       "array([[1.70704177, 1.00894263, 1.14736397, 1.95069075, 0.91935262],\n",
       "       [1.75100455, 1.56380523, 0.26145205, 1.68899824, 1.66914613],\n",
       "       [0.87795233, 0.83696533, 0.09815248, 0.60384478, 0.93823589],\n",
       "       [0.08671106, 0.12498495, 1.73589485, 0.83391622, 1.68102845],\n",
       "       [0.50412281, 1.17960773, 1.30960611, 0.88523124, 0.20819544]])"
      ]
     },
     "execution_count": 73,
     "metadata": {},
     "output_type": "execute_result"
    }
   ],
   "source": [
    "arrb*2"
   ]
  },
  {
   "cell_type": "code",
   "execution_count": 74,
   "metadata": {},
   "outputs": [
    {
     "data": {
      "text/plain": [
       "array([[0.85352088, 0.50447132, 0.57368199, 0.97534538, 0.45967631],\n",
       "       [0.87550227, 0.78190262, 0.13072602, 0.84449912, 0.83457307],\n",
       "       [0.43897617, 0.41848266, 0.04907624, 0.30192239, 0.46911794],\n",
       "       [0.04335553, 0.06249248, 0.86794742, 0.41695811, 0.84051423],\n",
       "       [0.25206141, 0.58980387, 0.65480306, 0.44261562, 0.10409772]])"
      ]
     },
     "execution_count": 74,
     "metadata": {},
     "output_type": "execute_result"
    }
   ],
   "source": [
    "arrb%2"
   ]
  },
  {
   "cell_type": "code",
   "execution_count": 75,
   "metadata": {},
   "outputs": [
    {
     "data": {
      "text/plain": [
       "array([[0.7284979 , 0.25449131, 0.32911102, 0.9512986 , 0.21130231],\n",
       "       [0.76650423, 0.6113717 , 0.01708929, 0.71317876, 0.6965122 ],\n",
       "       [0.19270007, 0.17512774, 0.00240848, 0.09115713, 0.22007165],\n",
       "       [0.0018797 , 0.00390531, 0.75333273, 0.17385407, 0.70646417],\n",
       "       [0.06353495, 0.3478686 , 0.42876704, 0.19590859, 0.01083634]])"
      ]
     },
     "execution_count": 75,
     "metadata": {},
     "output_type": "execute_result"
    }
   ],
   "source": [
    "arrb**2"
   ]
  },
  {
   "cell_type": "code",
   "execution_count": 76,
   "metadata": {},
   "outputs": [
    {
     "data": {
      "text/plain": [
       "array([[2.347899  , 1.65610973, 1.77478979, 2.65208302, 1.58356132],\n",
       "       [2.40008049, 2.18562672, 1.1396555 , 2.32681207, 2.30383026],\n",
       "       [1.55111832, 1.51965398, 1.05030042, 1.35245626, 1.59858353],\n",
       "       [1.04430911, 1.06448645, 2.38201656, 1.51733895, 2.31755842],\n",
       "       [1.28667504, 1.80363463, 1.92476341, 1.55677383, 1.10970889]])"
      ]
     },
     "execution_count": 76,
     "metadata": {},
     "output_type": "execute_result"
    }
   ],
   "source": [
    "np.exp(arrb)"
   ]
  },
  {
   "cell_type": "code",
   "execution_count": 77,
   "metadata": {},
   "outputs": [
    {
     "data": {
      "text/plain": [
       "array([[-0.15838527, -0.6842443 , -0.55568007, -0.02496364, -0.77723271],\n",
       "       [-0.13295753, -0.24602508, -2.03465157, -0.16901159, -0.18083498],\n",
       "       [-0.82331016, -0.87111981, -3.01438025, -1.19758529, -0.75690106],\n",
       "       [-3.13832099, -2.77270911, -0.14162414, -0.87476952, -0.1737414 ],\n",
       "       [-1.37808255, -0.52796523, -0.42342076, -0.81505356, -2.26242522]])"
      ]
     },
     "execution_count": 77,
     "metadata": {},
     "output_type": "execute_result"
    }
   ],
   "source": [
    "np.log(arrb)"
   ]
  },
  {
   "cell_type": "code",
   "execution_count": 78,
   "metadata": {},
   "outputs": [
    {
     "data": {
      "text/plain": [
       "array([[0.75359947, 0.48334468, 0.54272825, 0.82789565, 0.44365804],\n",
       "       [0.76786536, 0.70463074, 0.13035401, 0.74763857, 0.7410099 ],\n",
       "       [0.42501293, 0.40637452, 0.04905654, 0.29735619, 0.4520997 ],\n",
       "       [0.04334195, 0.06245181, 0.76300377, 0.40498106, 0.74498625],\n",
       "       [0.24940075, 0.55619804, 0.60900305, 0.42830449, 0.10390981]])"
      ]
     },
     "execution_count": 78,
     "metadata": {},
     "output_type": "execute_result"
    }
   ],
   "source": [
    "np.sin(arrb)"
   ]
  },
  {
   "cell_type": "code",
   "execution_count": 79,
   "metadata": {},
   "outputs": [
    {
     "data": {
      "text/plain": [
       "array([[0.65733389, 0.87543013, 0.83990836, 0.56088215, 0.89619615],\n",
       "       [0.64061126, 0.70957418, 0.99146751, 0.66410584, 0.67149411],\n",
       "       [0.90518728, 0.9137066 , 0.998796  , 0.95476662, 0.89196741],\n",
       "       [0.9990603 , 0.99804798, 0.64639403, 0.91432508, 0.66707982],\n",
       "       [0.96840036, 0.83104978, 0.79316788, 0.90363447, 0.99458672]])"
      ]
     },
     "execution_count": 79,
     "metadata": {},
     "output_type": "execute_result"
    }
   ],
   "source": [
    "np.cos(arrb)"
   ]
  },
  {
   "cell_type": "code",
   "execution_count": 80,
   "metadata": {},
   "outputs": [
    {
     "data": {
      "text/plain": [
       "array([[1.14644852, 0.55212251, 0.64617556, 1.4760599 , 0.49504569],\n",
       "       [1.19864481, 0.99303323, 0.13147582, 1.12578225, 1.10352405],\n",
       "       [0.46953038, 0.44475384, 0.04911568, 0.31144385, 0.50685674],\n",
       "       [0.04338272, 0.06257395, 1.1804004 , 0.44292896, 1.11678726],\n",
       "       [0.25753889, 0.66927162, 0.76781103, 0.47397981, 0.10447537]])"
      ]
     },
     "execution_count": 80,
     "metadata": {},
     "output_type": "execute_result"
    }
   ],
   "source": [
    "np.tan(arrb)"
   ]
  },
  {
   "cell_type": "code",
   "execution_count": 81,
   "metadata": {},
   "outputs": [
    {
     "data": {
      "text/plain": [
       "12.786123812181524"
      ]
     },
     "execution_count": 81,
     "metadata": {},
     "output_type": "execute_result"
    }
   ],
   "source": [
    "#sums all the values in array arrb\n",
    "\n",
    "np.sum(arrb)"
   ]
  },
  {
   "cell_type": "code",
   "execution_count": 84,
   "metadata": {},
   "outputs": [
    {
     "data": {
      "text/plain": [
       "array([2.46341626, 2.35715294, 2.27623473, 2.98134061, 2.70797927])"
      ]
     },
     "execution_count": 84,
     "metadata": {},
     "output_type": "execute_result"
    }
   ],
   "source": [
    "#sums all the values along the columns\n",
    "np.sum(arrb, axis=0)"
   ]
  },
  {
   "cell_type": "code",
   "execution_count": 85,
   "metadata": {},
   "outputs": [
    {
     "data": {
      "text/plain": [
       "array([3.36669587, 3.4672031 , 1.6775754 , 2.23126777, 2.04338167])"
      ]
     },
     "execution_count": 85,
     "metadata": {},
     "output_type": "execute_result"
    }
   ],
   "source": [
    "#sums all the values along the rows\n",
    "np.sum(arrb, axis=1)"
   ]
  },
  {
   "cell_type": "code",
   "execution_count": 86,
   "metadata": {},
   "outputs": [
    {
     "data": {
      "text/plain": [
       "0.04335553132575676"
      ]
     },
     "execution_count": 86,
     "metadata": {},
     "output_type": "execute_result"
    }
   ],
   "source": [
    "np.min(arrb)"
   ]
  },
  {
   "cell_type": "code",
   "execution_count": 87,
   "metadata": {},
   "outputs": [
    {
     "data": {
      "text/plain": [
       "0.9753453751197477"
      ]
     },
     "execution_count": 87,
     "metadata": {},
     "output_type": "execute_result"
    }
   ],
   "source": [
    "np.max(arrb)"
   ]
  },
  {
   "cell_type": "code",
   "execution_count": 88,
   "metadata": {},
   "outputs": [
    {
     "data": {
      "text/plain": [
       "array([[0.85352088, 0.50447132, 0.57368199, 0.97534538, 0.45967631],\n",
       "       [0.87550227, 0.78190262, 0.13072602, 0.84449912, 0.83457307],\n",
       "       [0.43897617, 0.41848266, 0.04907624, 0.30192239, 0.46911794],\n",
       "       [0.04335553, 0.06249248, 0.86794742, 0.41695811, 0.84051423],\n",
       "       [0.25206141, 0.58980387, 0.65480306, 0.44261562, 0.10409772]])"
      ]
     },
     "execution_count": 88,
     "metadata": {},
     "output_type": "execute_result"
    }
   ],
   "source": [
    "arrb"
   ]
  },
  {
   "cell_type": "code",
   "execution_count": 89,
   "metadata": {},
   "outputs": [
    {
     "data": {
      "text/plain": [
       "array([0.04335553, 0.06249248, 0.04907624, 0.30192239, 0.10409772])"
      ]
     },
     "execution_count": 89,
     "metadata": {},
     "output_type": "execute_result"
    }
   ],
   "source": [
    "#gives the minimum value along the rows\n",
    "np.min(arrb, axis=0)"
   ]
  },
  {
   "cell_type": "code",
   "execution_count": 90,
   "metadata": {},
   "outputs": [
    {
     "data": {
      "text/plain": [
       "array([0.45967631, 0.13072602, 0.04907624, 0.04335553, 0.10409772])"
      ]
     },
     "execution_count": 90,
     "metadata": {},
     "output_type": "execute_result"
    }
   ],
   "source": [
    "#gives the minimum value along the columns\n",
    "np.min(arrb, axis=1)"
   ]
  },
  {
   "cell_type": "code",
   "execution_count": 11,
   "metadata": {},
   "outputs": [
    {
     "data": {
      "text/plain": [
       "0.2504758562594793"
      ]
     },
     "execution_count": 11,
     "metadata": {},
     "output_type": "execute_result"
    }
   ],
   "source": [
    "#find standard deviation of arrb\n",
    "np.std(arrb)"
   ]
  },
  {
   "cell_type": "code",
   "execution_count": 12,
   "metadata": {},
   "outputs": [
    {
     "data": {
      "text/plain": [
       "0.42380373329528725"
      ]
     },
     "execution_count": 12,
     "metadata": {},
     "output_type": "execute_result"
    }
   ],
   "source": [
    "#find the mean\n",
    "np.mean(arrb)"
   ]
  },
  {
   "cell_type": "code",
   "execution_count": 13,
   "metadata": {},
   "outputs": [
    {
     "data": {
      "text/plain": [
       "0.39204828619123044"
      ]
     },
     "execution_count": 13,
     "metadata": {},
     "output_type": "execute_result"
    }
   ],
   "source": [
    "#find the median of arrb\n",
    "np.median(arrb)"
   ]
  },
  {
   "cell_type": "code",
   "execution_count": 14,
   "metadata": {},
   "outputs": [
    {
     "data": {
      "text/plain": [
       "array([0.02611115, 0.11265845, 0.05708562, 0.05090866, 0.04585204])"
      ]
     },
     "execution_count": 14,
     "metadata": {},
     "output_type": "execute_result"
    }
   ],
   "source": [
    "#find the variance along the rows of arrb\n",
    "np.var(arrb, axis=0)"
   ]
  },
  {
   "cell_type": "code",
   "execution_count": 10,
   "metadata": {},
   "outputs": [
    {
     "data": {
      "text/plain": [
       "0.06273815456891935"
      ]
     },
     "execution_count": 10,
     "metadata": {},
     "output_type": "execute_result"
    }
   ],
   "source": [
    "np.var(arrb)"
   ]
  },
  {
   "cell_type": "code",
   "execution_count": 17,
   "metadata": {},
   "outputs": [
    {
     "data": {
      "text/plain": [
       "array([[0.59771961, 0.39204829],\n",
       "       [0.13243114, 0.71195192],\n",
       "       [0.72562241, 0.1212276 ],\n",
       "       [0.16583556, 0.42777884]])"
      ]
     },
     "execution_count": 17,
     "metadata": {},
     "output_type": "execute_result"
    }
   ],
   "source": [
    "arrb[1:,2:4]"
   ]
  },
  {
   "cell_type": "code",
   "execution_count": 19,
   "metadata": {},
   "outputs": [
    {
     "data": {
      "text/plain": [
       "array([[0.59771961, 0.39204829],\n",
       "       [0.13243114, 0.71195192],\n",
       "       [0.72562241, 0.1212276 ],\n",
       "       [0.16583556, 0.42777884]])"
      ]
     },
     "execution_count": 19,
     "metadata": {},
     "output_type": "execute_result"
    }
   ],
   "source": [
    "arrb[1:,2:-1]"
   ]
  },
  {
   "cell_type": "code",
   "execution_count": 23,
   "metadata": {},
   "outputs": [
    {
     "data": {
      "text/plain": [
       "array([[0.25759039, 0.27313467, 0.31547171, 0.59150051, 0.72825721],\n",
       "       [0.11221495, 0.39204829, 0.55604185, 0.59771961, 0.90136285],\n",
       "       [0.13243114, 0.5956287 , 0.60643742, 0.71195192, 0.94663746],\n",
       "       [0.1212276 , 0.24520784, 0.30375009, 0.4120307 , 0.72562241],\n",
       "       [0.14041218, 0.16160385, 0.16583556, 0.17319559, 0.42777884]])"
      ]
     },
     "execution_count": 23,
     "metadata": {},
     "output_type": "execute_result"
    }
   ],
   "source": [
    "np.sort(arrb, axis=1)"
   ]
  },
  {
   "cell_type": "code",
   "execution_count": 22,
   "metadata": {},
   "outputs": [
    {
     "data": {
      "text/plain": [
       "array([[0.31547171, 0.25759039, 0.27313467, 0.72825721, 0.59150051],\n",
       "       [0.55604185, 0.90136285, 0.59771961, 0.39204829, 0.11221495],\n",
       "       [0.60643742, 0.94663746, 0.13243114, 0.71195192, 0.5956287 ],\n",
       "       [0.4120307 , 0.30375009, 0.72562241, 0.1212276 , 0.24520784],\n",
       "       [0.16160385, 0.17319559, 0.16583556, 0.42777884, 0.14041218]])"
      ]
     },
     "execution_count": 22,
     "metadata": {},
     "output_type": "execute_result"
    }
   ],
   "source": [
    "arrb"
   ]
  },
  {
   "cell_type": "code",
   "execution_count": 24,
   "metadata": {},
   "outputs": [
    {
     "data": {
      "text/plain": [
       "array([[0.31547171, 0.55604185, 0.60643742, 0.4120307 , 0.16160385],\n",
       "       [0.25759039, 0.90136285, 0.94663746, 0.30375009, 0.17319559],\n",
       "       [0.27313467, 0.59771961, 0.13243114, 0.72562241, 0.16583556],\n",
       "       [0.72825721, 0.39204829, 0.71195192, 0.1212276 , 0.42777884],\n",
       "       [0.59150051, 0.11221495, 0.5956287 , 0.24520784, 0.14041218]])"
      ]
     },
     "execution_count": 24,
     "metadata": {},
     "output_type": "execute_result"
    }
   ],
   "source": [
    "#transposes the data\n",
    "arrb.T"
   ]
  },
  {
   "cell_type": "code",
   "execution_count": 26,
   "metadata": {},
   "outputs": [
    {
     "data": {
      "text/plain": [
       "array([[0.31547171, 0.55604185, 0.60643742, 0.4120307 , 0.16160385],\n",
       "       [0.25759039, 0.90136285, 0.94663746, 0.30375009, 0.17319559],\n",
       "       [0.27313467, 0.59771961, 0.13243114, 0.72562241, 0.16583556],\n",
       "       [0.72825721, 0.39204829, 0.71195192, 0.1212276 , 0.42777884],\n",
       "       [0.59150051, 0.11221495, 0.5956287 , 0.24520784, 0.14041218]])"
      ]
     },
     "execution_count": 26,
     "metadata": {},
     "output_type": "execute_result"
    }
   ],
   "source": [
    "#another method for transposition\n",
    "arrb.transpose()"
   ]
  },
  {
   "cell_type": "code",
   "execution_count": 27,
   "metadata": {},
   "outputs": [
    {
     "data": {
      "text/plain": [
       "array([[0.31547171, 0.55604185, 0.60643742],\n",
       "       [0.25759039, 0.90136285, 0.94663746],\n",
       "       [0.27313467, 0.59771961, 0.13243114],\n",
       "       [0.72825721, 0.39204829, 0.71195192],\n",
       "       [0.59150051, 0.11221495, 0.5956287 ]])"
      ]
     },
     "execution_count": 27,
     "metadata": {},
     "output_type": "execute_result"
    }
   ],
   "source": [
    "#transposes a slice\n",
    "arrb[:3,:].T"
   ]
  },
  {
   "cell_type": "code",
   "execution_count": 29,
   "metadata": {},
   "outputs": [
    {
     "data": {
      "text/plain": [
       "array([0.31547171, 0.25759039, 0.27313467, 0.72825721, 0.59150051,\n",
       "       0.55604185, 0.90136285, 0.59771961, 0.39204829, 0.11221495,\n",
       "       0.60643742, 0.94663746, 0.13243114, 0.71195192, 0.5956287 ])"
      ]
     },
     "execution_count": 29,
     "metadata": {},
     "output_type": "execute_result"
    }
   ],
   "source": [
    "#flattens a slice (almost like an inverse trnasposition)\n",
    "arrb[:3,:].flatten()"
   ]
  },
  {
   "cell_type": "code",
   "execution_count": 30,
   "metadata": {},
   "outputs": [
    {
     "data": {
      "text/plain": [
       "array([4, 5, 6, 7, 8])"
      ]
     },
     "execution_count": 30,
     "metadata": {},
     "output_type": "execute_result"
    }
   ],
   "source": [
    "arr3 = np.array([4,5,6,7,8])\n",
    "arr3"
   ]
  },
  {
   "cell_type": "code",
   "execution_count": 33,
   "metadata": {},
   "outputs": [
    {
     "data": {
      "text/plain": [
       "array([4, 5, 6, 7, 8, 8])"
      ]
     },
     "execution_count": 33,
     "metadata": {},
     "output_type": "execute_result"
    }
   ],
   "source": [
    "arr4 = np.append(arr3, 8)\n",
    "arr4"
   ]
  },
  {
   "cell_type": "code",
   "execution_count": 39,
   "metadata": {},
   "outputs": [
    {
     "data": {
      "text/plain": [
       "array([1, 2, 3, 4, 5, 6, 7, 8])"
      ]
     },
     "execution_count": 39,
     "metadata": {},
     "output_type": "execute_result"
    }
   ],
   "source": [
    "arr5 = np.insert(arr3, 0, [1,2,3])\n",
    "arr5"
   ]
  },
  {
   "cell_type": "code",
   "execution_count": 45,
   "metadata": {},
   "outputs": [
    {
     "data": {
      "text/plain": [
       "array([6, 7, 8, 8])"
      ]
     },
     "execution_count": 45,
     "metadata": {},
     "output_type": "execute_result"
    }
   ],
   "source": [
    "#deletes a value\n",
    "arr6 = np.delete(arr5, 0)\n",
    "arr6"
   ]
  },
  {
   "cell_type": "code",
   "execution_count": 48,
   "metadata": {},
   "outputs": [
    {
     "data": {
      "text/plain": [
       "array([4, 5, 6, 7, 8, 8])"
      ]
     },
     "execution_count": 48,
     "metadata": {},
     "output_type": "execute_result"
    }
   ],
   "source": [
    "arrC = arr4.copy()\n",
    "arrC"
   ]
  },
  {
   "cell_type": "code",
   "execution_count": 52,
   "metadata": {},
   "outputs": [
    {
     "name": "stdout",
     "output_type": "stream",
     "text": [
      "[[1 2 3 4]\n",
      " [1 2 3 4]\n",
      " [5 6 7 8]\n",
      " [5 6 7 8]]\n"
     ]
    }
   ],
   "source": [
    "#cocatenates two arrays\n",
    "arrA = np.array([[1,2,3,4],[1,2,3,4]])\n",
    "arrB = np.array([[5,6,7,8],[5,6,7,8]])\n",
    "arr_cat = np.concatenate((arrA,arrB),axis = 0)\n",
    "print(arr_cat)"
   ]
  },
  {
   "cell_type": "code",
   "execution_count": 53,
   "metadata": {},
   "outputs": [
    {
     "name": "stdout",
     "output_type": "stream",
     "text": [
      "[[1 2 3 4 5 6 7 8]\n",
      " [1 2 3 4 5 6 7 8]]\n"
     ]
    }
   ],
   "source": [
    "#cocatenates two arrays\n",
    "arrA = np.array([[1,2,3,4],[1,2,3,4]])\n",
    "arrB = np.array([[5,6,7,8],[5,6,7,8]])\n",
    "arr_cat = np.concatenate((arrA,arrB),axis = 1)\n",
    "print(arr_cat)"
   ]
  },
  {
   "cell_type": "code",
   "execution_count": 55,
   "metadata": {},
   "outputs": [
    {
     "data": {
      "text/plain": [
       "array([[1, 2, 3, 4],\n",
       "       [1, 2, 3, 4],\n",
       "       [5, 6, 7, 8],\n",
       "       [5, 6, 7, 8]])"
      ]
     },
     "execution_count": 55,
     "metadata": {},
     "output_type": "execute_result"
    }
   ],
   "source": [
    "#stacks the array vertically\n",
    "catV = np.vstack((arrA, arrB))\n",
    "catV"
   ]
  },
  {
   "cell_type": "code",
   "execution_count": 56,
   "metadata": {},
   "outputs": [
    {
     "data": {
      "text/plain": [
       "array([[1, 2, 3, 4, 5, 6, 7, 8],\n",
       "       [1, 2, 3, 4, 5, 6, 7, 8]])"
      ]
     },
     "execution_count": 56,
     "metadata": {},
     "output_type": "execute_result"
    }
   ],
   "source": [
    "#stacks the array horizontally\n",
    "catH = np.hstack((arrA, arrB))\n",
    "catH"
   ]
  },
  {
   "cell_type": "code",
   "execution_count": 58,
   "metadata": {},
   "outputs": [
    {
     "name": "stdout",
     "output_type": "stream",
     "text": [
      "[1 2 3 4 5 6 3 6 1 2 4]\n",
      "[1 2 3 4 5 6]\n"
     ]
    }
   ],
   "source": [
    "arrr = np.array([1,2,3,4,5,6,3,6,1,2,4])\n",
    "print(arrr)\n",
    "#prints out unique values\n",
    "print(np.unique(arrr))"
   ]
  },
  {
   "cell_type": "code",
   "execution_count": 61,
   "metadata": {},
   "outputs": [
    {
     "name": "stdout",
     "output_type": "stream",
     "text": [
      "[1 2 3 4 5 6]\n",
      "[2 2 2 2 1 2]\n"
     ]
    }
   ],
   "source": [
    "#prints unique values and then counts number of occurences\n",
    "uniques, counts = np.unique(arrr, return_counts = True)\n",
    "print(uniques)\n",
    "print(counts)"
   ]
  },
  {
   "cell_type": "code",
   "execution_count": 66,
   "metadata": {},
   "outputs": [
    {
     "name": "stdout",
     "output_type": "stream",
     "text": [
      "[3 4 5]\n",
      "[1 2 3 4 5 6 7]\n",
      "[1 2]\n",
      "[1 2 6 7]\n"
     ]
    }
   ],
   "source": [
    "#intersection, differentiation, neither\n",
    "arrC = np.array([1,2,3,4,5])\n",
    "arrD = np.array([3,4,5,6,7])\n",
    "#intersection of both arrays\n",
    "print(np.intersect1d(arrC, arrD)) #where 1d is one-dimensional array\n",
    "#union of both arrays\n",
    "(print(np.union1d(arrC, arrD)))\n",
    "print(np.setdiff1d(arrC, arrD))\n",
    "print(np.setxor1d(arrC, arrD))"
   ]
  },
  {
   "cell_type": "code",
   "execution_count": null,
   "metadata": {},
   "outputs": [],
   "source": []
  },
  {
   "cell_type": "markdown",
   "metadata": {},
   "source": [
    "## SIMPLILEARN PRACTICE 2"
   ]
  },
  {
   "cell_type": "code",
   "execution_count": null,
   "metadata": {},
   "outputs": [],
   "source": []
  }
 ],
 "metadata": {
  "kernelspec": {
   "display_name": "Python 3",
   "language": "python",
   "name": "python3"
  },
  "language_info": {
   "codemirror_mode": {
    "name": "ipython",
    "version": 3
   },
   "file_extension": ".py",
   "mimetype": "text/x-python",
   "name": "python",
   "nbconvert_exporter": "python",
   "pygments_lexer": "ipython3",
   "version": "3.8.5"
  }
 },
 "nbformat": 4,
 "nbformat_minor": 4
}
